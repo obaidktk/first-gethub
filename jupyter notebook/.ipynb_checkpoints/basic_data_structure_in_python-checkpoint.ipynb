{
 "cells": [
  {
   "cell_type": "markdown",
   "id": "0f41c41c",
   "metadata": {},
   "source": [
    "#Basic data structure in python\n",
    "1-Tuple\n",
    "\n",
    "2-List\n",
    "\n",
    "3-Dictionaries\n",
    "\n",
    "4-Set\n"
   ]
  },
  {
   "cell_type": "markdown",
   "id": "0bed8687",
   "metadata": {},
   "source": [
    "# Tuple\n",
    "- Ordered collection of an element.\n",
    "- Inclosed in () these bracket.\n",
    "- Different kind of element can be stord.\n",
    "- Once element are stored you can not change them.(unmutatable).\n"
   ]
  },
  {
   "cell_type": "code",
   "execution_count": null,
   "id": "fda673a9",
   "metadata": {},
   "outputs": [],
   "source": [
    "tup1 =(1,\"python\",True, 2.5)\n",
    "tup1"
   ]
  },
  {
   "cell_type": "code",
   "execution_count": null,
   "id": "18167b68",
   "metadata": {},
   "outputs": [],
   "source": [
    "# Type of tup\n",
    "type(tup1)\n"
   ]
  },
  {
   "cell_type": "code",
   "execution_count": null,
   "id": "98d4fd6a",
   "metadata": {},
   "outputs": [],
   "source": [
    "### - indexing in tuple\n",
    "tup1[1]"
   ]
  },
  {
   "cell_type": "code",
   "execution_count": null,
   "id": "4bc8c931",
   "metadata": {},
   "outputs": [],
   "source": [
    "tup1[3]"
   ]
  },
  {
   "cell_type": "code",
   "execution_count": null,
   "id": "0ee10b78",
   "metadata": {},
   "outputs": [],
   "source": [
    "tup1[0:4]"
   ]
  },
  {
   "cell_type": "code",
   "execution_count": null,
   "id": "911d63eb",
   "metadata": {},
   "outputs": [],
   "source": [
    "tup1[0:3]\n"
   ]
  },
  {
   "cell_type": "code",
   "execution_count": null,
   "id": "e81f3dac",
   "metadata": {},
   "outputs": [],
   "source": [
    "len(tup1)"
   ]
  },
  {
   "cell_type": "code",
   "execution_count": null,
   "id": "812275be",
   "metadata": {},
   "outputs": [],
   "source": [
    "tup2 = (2,\"obaidkhan\", 3.4, False )\n",
    "tup2"
   ]
  },
  {
   "cell_type": "code",
   "execution_count": null,
   "id": "f4f3c923",
   "metadata": {},
   "outputs": [],
   "source": [
    "#concatination of tuple data type.\n",
    "tup1+tup2"
   ]
  },
  {
   "cell_type": "code",
   "execution_count": 20,
   "id": "52fc35ee",
   "metadata": {},
   "outputs": [
    {
     "data": {
      "text/plain": [
       "(1, 'python', True, 2.5, 1, 'python', True, 2.5, 2, 'obaidkhan', 3.4, False)"
      ]
     },
     "execution_count": 20,
     "metadata": {},
     "output_type": "execute_result"
    }
   ],
   "source": [
    "#concatinate + repeat(* this sign is used for repeatation)\n",
    "tup1*2 + tup2"
   ]
  },
  {
   "cell_type": "code",
   "execution_count": 21,
   "id": "ada09dd5",
   "metadata": {},
   "outputs": [
    {
     "data": {
      "text/plain": [
       "(98, 43, 56, 76, 44)"
      ]
     },
     "execution_count": 21,
     "metadata": {},
     "output_type": "execute_result"
    }
   ],
   "source": [
    "tup3 =(98,43,56,76,44)\n",
    "tup3"
   ]
  },
  {
   "cell_type": "code",
   "execution_count": 22,
   "id": "9ebd0d4e",
   "metadata": {},
   "outputs": [
    {
     "data": {
      "text/plain": [
       "43"
      ]
     },
     "execution_count": 22,
     "metadata": {},
     "output_type": "execute_result"
    }
   ],
   "source": [
    "#minimum\n",
    "min(tup3)"
   ]
  },
  {
   "cell_type": "code",
   "execution_count": 23,
   "id": "33c41ecc",
   "metadata": {},
   "outputs": [
    {
     "data": {
      "text/plain": [
       "98"
      ]
     },
     "execution_count": 23,
     "metadata": {},
     "output_type": "execute_result"
    }
   ],
   "source": [
    "#maximum\n",
    "max(tup3)"
   ]
  },
  {
   "cell_type": "markdown",
   "id": "93c24852",
   "metadata": {},
   "source": [
    "---"
   ]
  },
  {
   "cell_type": "markdown",
   "id": "18c88c32",
   "metadata": {},
   "source": [
    "#-2 lists\n"
   ]
  },
  {
   "cell_type": "markdown",
   "id": "14b303fe",
   "metadata": {},
   "source": [
    "#- Orderd collection of elements.\n",
    "\n",
    "#- Inclosed in [] square bracket.\n",
    "\n",
    "#- mutable. you can change the values"
   ]
  },
  {
   "cell_type": "code",
   "execution_count": 51,
   "id": "2d4040b1",
   "metadata": {},
   "outputs": [
    {
     "data": {
      "text/plain": [
       "[2, 'obaidkhan', False]"
      ]
     },
     "execution_count": 51,
     "metadata": {},
     "output_type": "execute_result"
    }
   ],
   "source": [
    "list1 =[2, \"obaidkhan\", False]\n",
    "list1"
   ]
  },
  {
   "cell_type": "code",
   "execution_count": 28,
   "id": "5fc78743",
   "metadata": {},
   "outputs": [
    {
     "data": {
      "text/plain": [
       "list"
      ]
     },
     "execution_count": 28,
     "metadata": {},
     "output_type": "execute_result"
    }
   ],
   "source": [
    "type(list1)"
   ]
  },
  {
   "cell_type": "code",
   "execution_count": 29,
   "id": "65a05c78",
   "metadata": {},
   "outputs": [
    {
     "data": {
      "text/plain": [
       "3"
      ]
     },
     "execution_count": 29,
     "metadata": {},
     "output_type": "execute_result"
    }
   ],
   "source": [
    "len(list1)"
   ]
  },
  {
   "cell_type": "code",
   "execution_count": 31,
   "id": "31e3e923",
   "metadata": {},
   "outputs": [
    {
     "data": {
      "text/plain": [
       "'obaidkhan'"
      ]
     },
     "execution_count": 31,
     "metadata": {},
     "output_type": "execute_result"
    }
   ],
   "source": [
    "list1[1]"
   ]
  },
  {
   "cell_type": "code",
   "execution_count": 39,
   "id": "d1cb0012",
   "metadata": {},
   "outputs": [
    {
     "data": {
      "text/plain": [
       "[3, 5, 'obaidkhan', 'codanics', 466, 45.3, False]"
      ]
     },
     "execution_count": 39,
     "metadata": {},
     "output_type": "execute_result"
    }
   ],
   "source": [
    "list2 =[3, 5, \"obaidkhan\", \"codanics\", 466, 45.3, False]\n",
    "list2"
   ]
  },
  {
   "cell_type": "code",
   "execution_count": 40,
   "id": "0ddcb3b6",
   "metadata": {},
   "outputs": [
    {
     "data": {
      "text/plain": [
       "[2, 'obaidkhan', False, 3, 5, 'obaidkhan', 'codanics', 466, 45.3, False]"
      ]
     },
     "execution_count": 40,
     "metadata": {},
     "output_type": "execute_result"
    }
   ],
   "source": [
    "list1 + list2"
   ]
  },
  {
   "cell_type": "code",
   "execution_count": 41,
   "id": "3d865c6f",
   "metadata": {},
   "outputs": [
    {
     "data": {
      "text/plain": [
       "[2, 'obaidkhan', False, 2, 'obaidkhan', False]"
      ]
     },
     "execution_count": 41,
     "metadata": {},
     "output_type": "execute_result"
    }
   ],
   "source": [
    "list1 *2\n"
   ]
  },
  {
   "cell_type": "code",
   "execution_count": 45,
   "id": "db34b84d",
   "metadata": {},
   "outputs": [
    {
     "data": {
      "text/plain": [
       "[2, 'obaidkhan', False]"
      ]
     },
     "execution_count": 45,
     "metadata": {},
     "output_type": "execute_result"
    }
   ],
   "source": [
    "list1"
   ]
  },
  {
   "cell_type": "code",
   "execution_count": 42,
   "id": "406347f5",
   "metadata": {},
   "outputs": [
    {
     "data": {
      "text/plain": [
       "[False, 'obaidkhan', 2]"
      ]
     },
     "execution_count": 42,
     "metadata": {},
     "output_type": "execute_result"
    }
   ],
   "source": [
    "list1.reverse()\n",
    "list1"
   ]
  },
  {
   "cell_type": "code",
   "execution_count": 46,
   "id": "27640194",
   "metadata": {},
   "outputs": [
    {
     "data": {
      "text/plain": [
       "[2, 'obaidkhan', False, 'codanic youtube chanel']"
      ]
     },
     "execution_count": 46,
     "metadata": {},
     "output_type": "execute_result"
    }
   ],
   "source": [
    "list1.append(\"codanic youtube chanel\")\n",
    "list1"
   ]
  },
  {
   "cell_type": "code",
   "execution_count": 50,
   "id": "15bdbefd",
   "metadata": {},
   "outputs": [
    {
     "data": {
      "text/plain": [
       "[2, 'obaidkhan', False, 'codanic youtube chanel']"
      ]
     },
     "execution_count": 50,
     "metadata": {},
     "output_type": "execute_result"
    }
   ],
   "source": [
    "list1.count(2)\n",
    "list1\n",
    "#list.count function. Assignment\n"
   ]
  },
  {
   "cell_type": "code",
   "execution_count": 70,
   "id": "683acc4c",
   "metadata": {},
   "outputs": [
    {
     "data": {
      "text/plain": [
       "1"
      ]
     },
     "execution_count": 70,
     "metadata": {},
     "output_type": "execute_result"
    }
   ],
   "source": [
    "list3 =['a','e','i','o','i']\n",
    "count=list3.count(\"i\")\n",
    "count\n",
    "count=list3.count(\"o\")\n",
    "count"
   ]
  },
  {
   "cell_type": "code",
   "execution_count": 73,
   "id": "84bd1787",
   "metadata": {},
   "outputs": [
    {
     "data": {
      "text/plain": [
       "[1, 2, 3, 4, 5, 6, 7, 8, 43, 6, 1, 3, 88, 99]"
      ]
     },
     "execution_count": 73,
     "metadata": {},
     "output_type": "execute_result"
    }
   ],
   "source": [
    "list4 =[1,2,3,4,5,6,7,8,43,6,1,3,88,99]\n",
    "list4"
   ]
  },
  {
   "cell_type": "code",
   "execution_count": 74,
   "id": "a791d929",
   "metadata": {},
   "outputs": [
    {
     "data": {
      "text/plain": [
       "14"
      ]
     },
     "execution_count": 74,
     "metadata": {},
     "output_type": "execute_result"
    }
   ],
   "source": [
    "len(list4)"
   ]
  },
  {
   "cell_type": "code",
   "execution_count": 75,
   "id": "13e589cd",
   "metadata": {},
   "outputs": [
    {
     "data": {
      "text/plain": [
       "[1, 1, 2, 3, 3, 4, 5, 6, 6, 7, 8, 43, 88, 99]"
      ]
     },
     "execution_count": 75,
     "metadata": {},
     "output_type": "execute_result"
    }
   ],
   "source": [
    "list4.sort()\n",
    "list4"
   ]
  },
  {
   "cell_type": "code",
   "execution_count": 76,
   "id": "cd7834b9",
   "metadata": {},
   "outputs": [
    {
     "data": {
      "text/plain": [
       "[1,\n",
       " 1,\n",
       " 2,\n",
       " 3,\n",
       " 3,\n",
       " 4,\n",
       " 5,\n",
       " 6,\n",
       " 6,\n",
       " 7,\n",
       " 8,\n",
       " 43,\n",
       " 88,\n",
       " 99,\n",
       " 1,\n",
       " 1,\n",
       " 2,\n",
       " 3,\n",
       " 3,\n",
       " 4,\n",
       " 5,\n",
       " 6,\n",
       " 6,\n",
       " 7,\n",
       " 8,\n",
       " 43,\n",
       " 88,\n",
       " 99]"
      ]
     },
     "execution_count": 76,
     "metadata": {},
     "output_type": "execute_result"
    }
   ],
   "source": [
    "list4*2"
   ]
  },
  {
   "cell_type": "markdown",
   "id": "8540361c",
   "metadata": {},
   "source": [
    "# 3-dictionaries\n",
    "- an unordered collection of elements\n",
    "- kay and values\n",
    "- curly braces or brackets{}\n",
    "- mutatable or changeable"
   ]
  },
  {
   "cell_type": "code",
   "execution_count": 79,
   "id": "9e4f4361",
   "metadata": {},
   "outputs": [
    {
     "data": {
      "text/plain": [
       "{'samosa': 30, 'pakora': 100, 'raita': 30, 'chicken rools': 30, 'salad': 50}"
      ]
     },
     "execution_count": 79,
     "metadata": {},
     "output_type": "execute_result"
    }
   ],
   "source": [
    "#food and their prices\n",
    "food1={\"samosa\":30, \"pakora\":100, \"raita\":30, \"chicken rools\":30, \"salad\":50}\n",
    "food1"
   ]
  },
  {
   "cell_type": "code",
   "execution_count": 81,
   "id": "e79d23e2",
   "metadata": {},
   "outputs": [
    {
     "data": {
      "text/plain": [
       "dict"
      ]
     },
     "execution_count": 81,
     "metadata": {},
     "output_type": "execute_result"
    }
   ],
   "source": [
    "type(food1)"
   ]
  },
  {
   "cell_type": "code",
   "execution_count": 85,
   "id": "176cb410",
   "metadata": {},
   "outputs": [
    {
     "data": {
      "text/plain": [
       "dict_keys(['samosa', 'pakora', 'raita', 'chicken rools', 'salad'])"
      ]
     },
     "execution_count": 85,
     "metadata": {},
     "output_type": "execute_result"
    }
   ],
   "source": [
    "#extract data\n",
    "keys1 = food1.keys()\n",
    "keys1"
   ]
  },
  {
   "cell_type": "code",
   "execution_count": 86,
   "id": "b293c6dc",
   "metadata": {},
   "outputs": [
    {
     "data": {
      "text/plain": [
       "dict_values([30, 100, 30, 30, 50])"
      ]
     },
     "execution_count": 86,
     "metadata": {},
     "output_type": "execute_result"
    }
   ],
   "source": [
    "food1.values()"
   ]
  },
  {
   "cell_type": "code",
   "execution_count": 87,
   "id": "059f421f",
   "metadata": {},
   "outputs": [
    {
     "data": {
      "text/plain": [
       "dict_values([30, 100, 30, 30, 50])"
      ]
     },
     "execution_count": 87,
     "metadata": {},
     "output_type": "execute_result"
    }
   ],
   "source": [
    "values= food1.values()\n",
    "values"
   ]
  },
  {
   "cell_type": "code",
   "execution_count": 88,
   "id": "3c1edf20",
   "metadata": {},
   "outputs": [
    {
     "data": {
      "text/plain": [
       "{'samosa': 30,\n",
       " 'pakora': 100,\n",
       " 'raita': 30,\n",
       " 'chicken rools': 30,\n",
       " 'salad': 50,\n",
       " 'Tiki': 10}"
      ]
     },
     "execution_count": 88,
     "metadata": {},
     "output_type": "execute_result"
    }
   ],
   "source": [
    "#adding new element.\n",
    "food1[\"Tiki\"]=10\n",
    "food1"
   ]
  },
  {
   "cell_type": "code",
   "execution_count": 89,
   "id": "39940f0d",
   "metadata": {},
   "outputs": [
    {
     "data": {
      "text/plain": [
       "{'samosa': 30,\n",
       " 'pakora': 100,\n",
       " 'raita': 30,\n",
       " 'chicken rools': 30,\n",
       " 'salad': 50,\n",
       " 'Tiki': 10,\n",
       " 'Tikki': 15}"
      ]
     },
     "execution_count": 89,
     "metadata": {},
     "output_type": "execute_result"
    }
   ],
   "source": [
    "#update the values\n",
    "food1[\"Tikki\"]=15\n",
    "food1"
   ]
  },
  {
   "cell_type": "code",
   "execution_count": 91,
   "id": "764600ef",
   "metadata": {},
   "outputs": [
    {
     "data": {
      "text/plain": [
       "{'dates': 50, 'choclates': 200, 'sewayan': 1000}"
      ]
     },
     "execution_count": 91,
     "metadata": {},
     "output_type": "execute_result"
    }
   ],
   "source": [
    "food2={\"dates\":50, \"choclates\":200, \"sewayan\":1000}\n",
    "food2"
   ]
  },
  {
   "cell_type": "code",
   "execution_count": 94,
   "id": "f91a641f",
   "metadata": {},
   "outputs": [
    {
     "data": {
      "text/plain": [
       "{'samosa': 30,\n",
       " 'pakora': 100,\n",
       " 'raita': 30,\n",
       " 'chicken rools': 30,\n",
       " 'salad': 50,\n",
       " 'Tiki': 10,\n",
       " 'Tikki': 15,\n",
       " 'dates': 50,\n",
       " 'choclates': 200,\n",
       " 'sewayan': 1000}"
      ]
     },
     "execution_count": 94,
     "metadata": {},
     "output_type": "execute_result"
    }
   ],
   "source": [
    "food1.update(food2)\n",
    "food1"
   ]
  },
  {
   "cell_type": "markdown",
   "id": "455ee4cc",
   "metadata": {},
   "source": [
    "# 04 sets\n",
    "- unordered and unindexed \n",
    "- curley braces{}\n",
    "- No duplecates allowed"
   ]
  },
  {
   "cell_type": "code",
   "execution_count": 100,
   "id": "1d097271",
   "metadata": {},
   "outputs": [
    {
     "data": {
      "text/plain": [
       "{1, 1.2, 5.2, 'codanic', 'faislabad', 'obaid'}"
      ]
     },
     "execution_count": 100,
     "metadata": {},
     "output_type": "execute_result"
    }
   ],
   "source": [
    "s1={1, 1.2, 5.2, \"obaid\",\"faislabad\",\"codanic\", True}\n",
    "s1"
   ]
  },
  {
   "cell_type": "code",
   "execution_count": 102,
   "id": "97363cbf",
   "metadata": {},
   "outputs": [],
   "source": [
    "s1.add(\"obaidkhan\")\n"
   ]
  },
  {
   "cell_type": "code",
   "execution_count": 103,
   "id": "7bf3904a",
   "metadata": {},
   "outputs": [
    {
     "data": {
      "text/plain": [
       "{1, 1.2, 5.2, 'codanic', 'faislabad', 'obaid', 'obaidkhan'}"
      ]
     },
     "execution_count": 103,
     "metadata": {},
     "output_type": "execute_result"
    }
   ],
   "source": [
    "s1"
   ]
  },
  {
   "cell_type": "code",
   "execution_count": null,
   "id": "a795c8b7",
   "metadata": {},
   "outputs": [],
   "source": []
  }
 ],
 "metadata": {
  "kernelspec": {
   "display_name": "Python 3 (ipykernel)",
   "language": "python",
   "name": "python3"
  },
  "language_info": {
   "codemirror_mode": {
    "name": "ipython",
    "version": 3
   },
   "file_extension": ".py",
   "mimetype": "text/x-python",
   "name": "python",
   "nbconvert_exporter": "python",
   "pygments_lexer": "ipython3",
   "version": "3.9.7"
  }
 },
 "nbformat": 4,
 "nbformat_minor": 5
}
