{
 "cells": [
  {
   "cell_type": "markdown",
   "id": "0161719b",
   "metadata": {},
   "source": [
    "#Basic data structure in python\n",
    "1-Tuple\n",
    "\n",
    "2-List\n",
    "\n",
    "3-Dictionaries\n",
    "\n",
    "4-Set\n"
   ]
  },
  {
   "cell_type": "markdown",
   "id": "5166a10a",
   "metadata": {},
   "source": [
    "# Tuple\n",
    "- Ordered collection of an element.\n",
    "- Inclosed in () these bracket.\n",
    "- Different kind of element can be stord.\n",
    "- Once element are stored you can not change them.(unmutatable).\n"
   ]
  },
  {
   "cell_type": "code",
   "execution_count": null,
   "id": "0360ef6f",
   "metadata": {},
   "outputs": [],
   "source": [
    "tup1 =(1,\"python\",True, 2.5)\n",
    "tup1"
   ]
  },
  {
   "cell_type": "code",
   "execution_count": null,
   "id": "e8b78b5b",
   "metadata": {},
   "outputs": [],
   "source": [
    "# Type of tup\n",
    "type(tup1)\n"
   ]
  },
  {
   "cell_type": "code",
   "execution_count": null,
   "id": "ca774d35",
   "metadata": {},
   "outputs": [],
   "source": [
    "### - indexing in tuple\n",
    "tup1[1]"
   ]
  },
  {
   "cell_type": "code",
   "execution_count": null,
   "id": "ddc1c08a",
   "metadata": {},
   "outputs": [],
   "source": [
    "tup1[3]"
   ]
  },
  {
   "cell_type": "code",
   "execution_count": null,
   "id": "a179ac0b",
   "metadata": {},
   "outputs": [],
   "source": [
    "tup1[0:4]"
   ]
  },
  {
   "cell_type": "code",
   "execution_count": null,
   "id": "50e15da0",
   "metadata": {},
   "outputs": [],
   "source": [
    "tup1[0:3]\n"
   ]
  },
  {
   "cell_type": "code",
   "execution_count": null,
   "id": "b610e4d9",
   "metadata": {},
   "outputs": [],
   "source": [
    "len(tup1)"
   ]
  },
  {
   "cell_type": "code",
   "execution_count": null,
   "id": "072b9169",
   "metadata": {},
   "outputs": [],
   "source": [
    "tup2 = (2,\"obaidkhan\", 3.4, False )\n",
    "tup2"
   ]
  },
  {
   "cell_type": "code",
   "execution_count": null,
   "id": "e86c249f",
   "metadata": {},
   "outputs": [],
   "source": [
    "#concatination of tuple data type.\n",
    "tup1+tup2"
   ]
  },
  {
   "cell_type": "code",
   "execution_count": 20,
   "id": "5fe17cb8",
   "metadata": {},
   "outputs": [
    {
     "data": {
      "text/plain": [
       "(1, 'python', True, 2.5, 1, 'python', True, 2.5, 2, 'obaidkhan', 3.4, False)"
      ]
     },
     "execution_count": 20,
     "metadata": {},
     "output_type": "execute_result"
    }
   ],
   "source": [
    "#concatinate + repeat(* this sign is used for repeatation)\n",
    "tup1*2 + tup2"
   ]
  },
  {
   "cell_type": "code",
   "execution_count": 21,
   "id": "71874967",
   "metadata": {},
   "outputs": [
    {
     "data": {
      "text/plain": [
       "(98, 43, 56, 76, 44)"
      ]
     },
     "execution_count": 21,
     "metadata": {},
     "output_type": "execute_result"
    }
   ],
   "source": [
    "tup3 =(98,43,56,76,44)\n",
    "tup3"
   ]
  },
  {
   "cell_type": "code",
   "execution_count": 22,
   "id": "3dbe128a",
   "metadata": {},
   "outputs": [
    {
     "data": {
      "text/plain": [
       "43"
      ]
     },
     "execution_count": 22,
     "metadata": {},
     "output_type": "execute_result"
    }
   ],
   "source": [
    "#minimum\n",
    "min(tup3)"
   ]
  },
  {
   "cell_type": "code",
   "execution_count": 23,
   "id": "b0dd4052",
   "metadata": {},
   "outputs": [
    {
     "data": {
      "text/plain": [
       "98"
      ]
     },
     "execution_count": 23,
     "metadata": {},
     "output_type": "execute_result"
    }
   ],
   "source": [
    "#maximum\n",
    "max(tup3)"
   ]
  },
  {
   "cell_type": "markdown",
   "id": "80d86f2a",
   "metadata": {},
   "source": [
    "---"
   ]
  },
  {
   "cell_type": "markdown",
   "id": "36019ffd",
   "metadata": {},
   "source": [
    "#-2 lists\n"
   ]
  },
  {
   "cell_type": "markdown",
   "id": "2ccb9932",
   "metadata": {},
   "source": [
    "#- Orderd collection of elements.\n",
    "\n",
    "#- Inclosed in [] square bracket.\n",
    "\n",
    "#- mutable. you can change the values"
   ]
  },
  {
   "cell_type": "code",
   "execution_count": 51,
   "id": "04c2c5a1",
   "metadata": {},
   "outputs": [
    {
     "data": {
      "text/plain": [
       "[2, 'obaidkhan', False]"
      ]
     },
     "execution_count": 51,
     "metadata": {},
     "output_type": "execute_result"
    }
   ],
   "source": [
    "list1 =[2, \"obaidkhan\", False]\n",
    "list1"
   ]
  },
  {
   "cell_type": "code",
   "execution_count": 28,
   "id": "76cdc9ab",
   "metadata": {},
   "outputs": [
    {
     "data": {
      "text/plain": [
       "list"
      ]
     },
     "execution_count": 28,
     "metadata": {},
     "output_type": "execute_result"
    }
   ],
   "source": [
    "type(list1)"
   ]
  },
  {
   "cell_type": "code",
   "execution_count": 29,
   "id": "22558786",
   "metadata": {},
   "outputs": [
    {
     "data": {
      "text/plain": [
       "3"
      ]
     },
     "execution_count": 29,
     "metadata": {},
     "output_type": "execute_result"
    }
   ],
   "source": [
    "len(list1)"
   ]
  },
  {
   "cell_type": "code",
   "execution_count": 31,
   "id": "756673d5",
   "metadata": {},
   "outputs": [
    {
     "data": {
      "text/plain": [
       "'obaidkhan'"
      ]
     },
     "execution_count": 31,
     "metadata": {},
     "output_type": "execute_result"
    }
   ],
   "source": [
    "list1[1]"
   ]
  },
  {
   "cell_type": "code",
   "execution_count": 39,
   "id": "5828135c",
   "metadata": {},
   "outputs": [
    {
     "data": {
      "text/plain": [
       "[3, 5, 'obaidkhan', 'codanics', 466, 45.3, False]"
      ]
     },
     "execution_count": 39,
     "metadata": {},
     "output_type": "execute_result"
    }
   ],
   "source": [
    "list2 =[3, 5, \"obaidkhan\", \"codanics\", 466, 45.3, False]\n",
    "list2"
   ]
  },
  {
   "cell_type": "code",
   "execution_count": 40,
   "id": "4a39080b",
   "metadata": {},
   "outputs": [
    {
     "data": {
      "text/plain": [
       "[2, 'obaidkhan', False, 3, 5, 'obaidkhan', 'codanics', 466, 45.3, False]"
      ]
     },
     "execution_count": 40,
     "metadata": {},
     "output_type": "execute_result"
    }
   ],
   "source": [
    "list1 + list2"
   ]
  },
  {
   "cell_type": "code",
   "execution_count": 41,
   "id": "f1769169",
   "metadata": {},
   "outputs": [
    {
     "data": {
      "text/plain": [
       "[2, 'obaidkhan', False, 2, 'obaidkhan', False]"
      ]
     },
     "execution_count": 41,
     "metadata": {},
     "output_type": "execute_result"
    }
   ],
   "source": [
    "list1 *2\n"
   ]
  },
  {
   "cell_type": "code",
   "execution_count": 45,
   "id": "acc2fee3",
   "metadata": {},
   "outputs": [
    {
     "data": {
      "text/plain": [
       "[2, 'obaidkhan', False]"
      ]
     },
     "execution_count": 45,
     "metadata": {},
     "output_type": "execute_result"
    }
   ],
   "source": [
    "list1"
   ]
  },
  {
   "cell_type": "code",
   "execution_count": 42,
   "id": "46296d83",
   "metadata": {},
   "outputs": [
    {
     "data": {
      "text/plain": [
       "[False, 'obaidkhan', 2]"
      ]
     },
     "execution_count": 42,
     "metadata": {},
     "output_type": "execute_result"
    }
   ],
   "source": [
    "list1.reverse()\n",
    "list1"
   ]
  },
  {
   "cell_type": "code",
   "execution_count": 46,
   "id": "c190be1d",
   "metadata": {},
   "outputs": [
    {
     "data": {
      "text/plain": [
       "[2, 'obaidkhan', False, 'codanic youtube chanel']"
      ]
     },
     "execution_count": 46,
     "metadata": {},
     "output_type": "execute_result"
    }
   ],
   "source": [
    "list1.append(\"codanic youtube chanel\")\n",
    "list1"
   ]
  },
  {
   "cell_type": "code",
   "execution_count": 50,
   "id": "2dbcc293",
   "metadata": {},
   "outputs": [
    {
     "data": {
      "text/plain": [
       "[2, 'obaidkhan', False, 'codanic youtube chanel']"
      ]
     },
     "execution_count": 50,
     "metadata": {},
     "output_type": "execute_result"
    }
   ],
   "source": [
    "list1.count(2)\n",
    "list1\n",
    "#list.count function. Assignment\n"
   ]
  },
  {
   "cell_type": "code",
   "execution_count": 70,
   "id": "7c7d93cb",
   "metadata": {},
   "outputs": [
    {
     "data": {
      "text/plain": [
       "1"
      ]
     },
     "execution_count": 70,
     "metadata": {},
     "output_type": "execute_result"
    }
   ],
   "source": [
    "list3 =['a','e','i','o','i']\n",
    "count=list3.count(\"i\")\n",
    "count\n",
    "count=list3.count(\"o\")\n",
    "count"
   ]
  },
  {
   "cell_type": "code",
   "execution_count": 73,
   "id": "6ef5d489",
   "metadata": {},
   "outputs": [
    {
     "data": {
      "text/plain": [
       "[1, 2, 3, 4, 5, 6, 7, 8, 43, 6, 1, 3, 88, 99]"
      ]
     },
     "execution_count": 73,
     "metadata": {},
     "output_type": "execute_result"
    }
   ],
   "source": [
    "list4 =[1,2,3,4,5,6,7,8,43,6,1,3,88,99]\n",
    "list4"
   ]
  },
  {
   "cell_type": "code",
   "execution_count": 74,
   "id": "6dbd31ab",
   "metadata": {},
   "outputs": [
    {
     "data": {
      "text/plain": [
       "14"
      ]
     },
     "execution_count": 74,
     "metadata": {},
     "output_type": "execute_result"
    }
   ],
   "source": [
    "len(list4)"
   ]
  },
  {
   "cell_type": "code",
   "execution_count": 75,
   "id": "f2bff468",
   "metadata": {},
   "outputs": [
    {
     "data": {
      "text/plain": [
       "[1, 1, 2, 3, 3, 4, 5, 6, 6, 7, 8, 43, 88, 99]"
      ]
     },
     "execution_count": 75,
     "metadata": {},
     "output_type": "execute_result"
    }
   ],
   "source": [
    "list4.sort()\n",
    "list4"
   ]
  },
  {
   "cell_type": "code",
   "execution_count": 76,
   "id": "d0e3287d",
   "metadata": {},
   "outputs": [
    {
     "data": {
      "text/plain": [
       "[1,\n",
       " 1,\n",
       " 2,\n",
       " 3,\n",
       " 3,\n",
       " 4,\n",
       " 5,\n",
       " 6,\n",
       " 6,\n",
       " 7,\n",
       " 8,\n",
       " 43,\n",
       " 88,\n",
       " 99,\n",
       " 1,\n",
       " 1,\n",
       " 2,\n",
       " 3,\n",
       " 3,\n",
       " 4,\n",
       " 5,\n",
       " 6,\n",
       " 6,\n",
       " 7,\n",
       " 8,\n",
       " 43,\n",
       " 88,\n",
       " 99]"
      ]
     },
     "execution_count": 76,
     "metadata": {},
     "output_type": "execute_result"
    }
   ],
   "source": [
    "list4*2"
   ]
  },
  {
   "cell_type": "markdown",
   "id": "302e094c",
   "metadata": {},
   "source": [
    "# 3-dictionaries\n",
    "- an unordered collection of elements\n",
    "- kay and values\n",
    "- curly braces or brackets{}\n",
    "- mutatable or changeable"
   ]
  },
  {
   "cell_type": "code",
   "execution_count": 79,
   "id": "2258678b",
   "metadata": {},
   "outputs": [
    {
     "data": {
      "text/plain": [
       "{'samosa': 30, 'pakora': 100, 'raita': 30, 'chicken rools': 30, 'salad': 50}"
      ]
     },
     "execution_count": 79,
     "metadata": {},
     "output_type": "execute_result"
    }
   ],
   "source": [
    "#food and their prices\n",
    "food1={\"samosa\":30, \"pakora\":100, \"raita\":30, \"chicken rools\":30, \"salad\":50}\n",
    "food1"
   ]
  },
  {
   "cell_type": "code",
   "execution_count": 81,
   "id": "617736da",
   "metadata": {},
   "outputs": [
    {
     "data": {
      "text/plain": [
       "dict"
      ]
     },
     "execution_count": 81,
     "metadata": {},
     "output_type": "execute_result"
    }
   ],
   "source": [
    "type(food1)"
   ]
  },
  {
   "cell_type": "code",
   "execution_count": 85,
   "id": "857f0383",
   "metadata": {},
   "outputs": [
    {
     "data": {
      "text/plain": [
       "dict_keys(['samosa', 'pakora', 'raita', 'chicken rools', 'salad'])"
      ]
     },
     "execution_count": 85,
     "metadata": {},
     "output_type": "execute_result"
    }
   ],
   "source": [
    "#extract data\n",
    "keys1 = food1.keys()\n",
    "keys1"
   ]
  },
  {
   "cell_type": "code",
   "execution_count": 86,
   "id": "8369ef40",
   "metadata": {},
   "outputs": [
    {
     "data": {
      "text/plain": [
       "dict_values([30, 100, 30, 30, 50])"
      ]
     },
     "execution_count": 86,
     "metadata": {},
     "output_type": "execute_result"
    }
   ],
   "source": [
    "food1.values()"
   ]
  },
  {
   "cell_type": "code",
   "execution_count": 87,
   "id": "ae1da7d4",
   "metadata": {},
   "outputs": [
    {
     "data": {
      "text/plain": [
       "dict_values([30, 100, 30, 30, 50])"
      ]
     },
     "execution_count": 87,
     "metadata": {},
     "output_type": "execute_result"
    }
   ],
   "source": [
    "values= food1.values()\n",
    "values"
   ]
  },
  {
   "cell_type": "code",
   "execution_count": 88,
   "id": "d89f11c0",
   "metadata": {},
   "outputs": [
    {
     "data": {
      "text/plain": [
       "{'samosa': 30,\n",
       " 'pakora': 100,\n",
       " 'raita': 30,\n",
       " 'chicken rools': 30,\n",
       " 'salad': 50,\n",
       " 'Tiki': 10}"
      ]
     },
     "execution_count": 88,
     "metadata": {},
     "output_type": "execute_result"
    }
   ],
   "source": [
    "#adding new element.\n",
    "food1[\"Tiki\"]=10\n",
    "food1"
   ]
  },
  {
   "cell_type": "code",
   "execution_count": 89,
   "id": "f48b957c",
   "metadata": {},
   "outputs": [
    {
     "data": {
      "text/plain": [
       "{'samosa': 30,\n",
       " 'pakora': 100,\n",
       " 'raita': 30,\n",
       " 'chicken rools': 30,\n",
       " 'salad': 50,\n",
       " 'Tiki': 10,\n",
       " 'Tikki': 15}"
      ]
     },
     "execution_count": 89,
     "metadata": {},
     "output_type": "execute_result"
    }
   ],
   "source": [
    "#update the values\n",
    "food1[\"Tikki\"]=15\n",
    "food1"
   ]
  },
  {
   "cell_type": "code",
   "execution_count": 91,
   "id": "e79cef87",
   "metadata": {},
   "outputs": [
    {
     "data": {
      "text/plain": [
       "{'dates': 50, 'choclates': 200, 'sewayan': 1000}"
      ]
     },
     "execution_count": 91,
     "metadata": {},
     "output_type": "execute_result"
    }
   ],
   "source": [
    "food2={\"dates\":50, \"choclates\":200, \"sewayan\":1000}\n",
    "food2"
   ]
  },
  {
   "cell_type": "code",
   "execution_count": 94,
   "id": "df433e46",
   "metadata": {},
   "outputs": [
    {
     "data": {
      "text/plain": [
       "{'samosa': 30,\n",
       " 'pakora': 100,\n",
       " 'raita': 30,\n",
       " 'chicken rools': 30,\n",
       " 'salad': 50,\n",
       " 'Tiki': 10,\n",
       " 'Tikki': 15,\n",
       " 'dates': 50,\n",
       " 'choclates': 200,\n",
       " 'sewayan': 1000}"
      ]
     },
     "execution_count": 94,
     "metadata": {},
     "output_type": "execute_result"
    }
   ],
   "source": [
    "food1.update(food2)\n",
    "food1"
   ]
  },
  {
   "cell_type": "markdown",
   "id": "6e6c7fd7",
   "metadata": {},
   "source": [
    "# 04 sets\n",
    "- unordered and unindexed \n",
    "- curley braces{}\n",
    "- No duplecates allowed"
   ]
  },
  {
   "cell_type": "code",
   "execution_count": 100,
   "id": "f4991293",
   "metadata": {},
   "outputs": [
    {
     "data": {
      "text/plain": [
       "{1, 1.2, 5.2, 'codanic', 'faislabad', 'obaid'}"
      ]
     },
     "execution_count": 100,
     "metadata": {},
     "output_type": "execute_result"
    }
   ],
   "source": [
    "s1={1, 1.2, 5.2, \"obaid\",\"faislabad\",\"codanic\", True}\n",
    "s1"
   ]
  },
  {
   "cell_type": "code",
   "execution_count": 102,
   "id": "aabe6349",
   "metadata": {},
   "outputs": [],
   "source": [
    "s1.add(\"obaidkhan\")\n"
   ]
  },
  {
   "cell_type": "code",
   "execution_count": 103,
   "id": "ee36c3fc",
   "metadata": {},
   "outputs": [
    {
     "data": {
      "text/plain": [
       "{1, 1.2, 5.2, 'codanic', 'faislabad', 'obaid', 'obaidkhan'}"
      ]
     },
     "execution_count": 103,
     "metadata": {},
     "output_type": "execute_result"
    }
   ],
   "source": [
    "s1"
   ]
  },
  {
   "cell_type": "code",
   "execution_count": 105,
   "id": "905b5175",
   "metadata": {},
   "outputs": [],
   "source": [
    "s1.remove(\"obaidkhan\")\n",
    "\n"
   ]
  },
  {
   "cell_type": "code",
   "execution_count": 106,
   "id": "f5da16bf",
   "metadata": {},
   "outputs": [
    {
     "data": {
      "text/plain": [
       "{1, 1.2, 5.2, 'codanic', 'faislabad', 'obaid'}"
      ]
     },
     "execution_count": 106,
     "metadata": {},
     "output_type": "execute_result"
    }
   ],
   "source": [
    "s1"
   ]
  }
 ],
 "metadata": {
  "kernelspec": {
   "display_name": "Python 3 (ipykernel)",
   "language": "python",
   "name": "python3"
  },
  "language_info": {
   "codemirror_mode": {
    "name": "ipython",
    "version": 3
   },
   "file_extension": ".py",
   "mimetype": "text/x-python",
   "name": "python",
   "nbconvert_exporter": "python",
   "pygments_lexer": "ipython3",
   "version": "3.9.7"
  }
 },
 "nbformat": 4,
 "nbformat_minor": 5
}
