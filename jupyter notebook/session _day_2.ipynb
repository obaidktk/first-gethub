{
 "cells": [
  {
   "cell_type": "code",
   "execution_count": null,
   "id": "f536a226",
   "metadata": {},
   "outputs": [],
   "source": [
    "#body mass index(bmi)\n",
    "#input weight\n",
    "#Height\n",
    "# BMi (ask yourself your weight)\n",
    "# weight.\n",
    "# clculate bmi\n",
    "# my name is your name.\n",
    "# print bmi(my name is and my bmi is----)\n",
    "# weight in kilogram/height in meaters and square "
   ]
  },
  {
   "cell_type": "code",
   "execution_count": 15,
   "id": "3c8c8ae3",
   "metadata": {},
   "outputs": [
    {
     "name": "stdout",
     "output_type": "stream",
     "text": [
      "what is your height? 2.2\n"
     ]
    }
   ],
   "source": [
    " height= input(\"what is your height? \")"
   ]
  },
  {
   "cell_type": "code",
   "execution_count": 16,
   "id": "dc4e18eb",
   "metadata": {},
   "outputs": [],
   "source": [
    "height=float(height)"
   ]
  },
  {
   "cell_type": "code",
   "execution_count": 17,
   "id": "f8806900",
   "metadata": {},
   "outputs": [
    {
     "name": "stdout",
     "output_type": "stream",
     "text": [
      "what is your weight? 68\n"
     ]
    }
   ],
   "source": [
    "weight =input(\"what is your weight? \")"
   ]
  },
  {
   "cell_type": "code",
   "execution_count": 18,
   "id": "9201c4c3",
   "metadata": {},
   "outputs": [],
   "source": [
    "weight= float(weight)"
   ]
  },
  {
   "cell_type": "code",
   "execution_count": 19,
   "id": "8a8908c3",
   "metadata": {},
   "outputs": [
    {
     "name": "stdout",
     "output_type": "stream",
     "text": [
      "what is your name? obaid\n"
     ]
    }
   ],
   "source": [
    "name= input(\"what is your name? \")\n"
   ]
  },
  {
   "cell_type": "code",
   "execution_count": 20,
   "id": "3cb32648",
   "metadata": {},
   "outputs": [
    {
     "data": {
      "text/plain": [
       "14.049586776859503"
      ]
     },
     "execution_count": 20,
     "metadata": {},
     "output_type": "execute_result"
    }
   ],
   "source": [
    "BMI= weight/height**2\n",
    "BMI"
   ]
  },
  {
   "cell_type": "code",
   "execution_count": 21,
   "id": "062e3a50",
   "metadata": {},
   "outputs": [
    {
     "name": "stdout",
     "output_type": "stream",
     "text": [
      "your name is  obaid And your BMI is 14.049586776859503\n"
     ]
    }
   ],
   "source": [
    "print(\"your name is \", name, \"And your BMI is\", BMI)\n"
   ]
  },
  {
   "cell_type": "code",
   "execution_count": null,
   "id": "163c2a12",
   "metadata": {},
   "outputs": [],
   "source": [
    "# #what is gramer of graphics\n",
    "# major parts\n",
    "# 1- Mapping (data)\n",
    "# 2- Asthetic (color, shape and size)\n",
    "# 3- Geomatric(objects, line, baar, point, box, map)       "
   ]
  }
 ],
 "metadata": {
  "kernelspec": {
   "display_name": "Python 3 (ipykernel)",
   "language": "python",
   "name": "python3"
  },
  "language_info": {
   "codemirror_mode": {
    "name": "ipython",
    "version": 3
   },
   "file_extension": ".py",
   "mimetype": "text/x-python",
   "name": "python",
   "nbconvert_exporter": "python",
   "pygments_lexer": "ipython3",
   "version": "3.9.7"
  }
 },
 "nbformat": 4,
 "nbformat_minor": 5
}
